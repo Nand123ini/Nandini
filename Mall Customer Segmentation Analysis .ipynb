{
 "cells": [
  {
   "cell_type": "markdown",
   "metadata": {},
   "source": [
    "## Import Modules"
   ]
  },
  {
   "cell_type": "code",
   "execution_count": null,
   "metadata": {
    "execution": {
     "iopub.execute_input": "2022-03-06T07:52:57.373011Z",
     "iopub.status.busy": "2022-03-06T07:52:57.372624Z",
     "iopub.status.idle": "2022-03-06T07:52:58.353879Z",
     "shell.execute_reply": "2022-03-06T07:52:58.353035Z",
     "shell.execute_reply.started": "2022-03-06T07:52:57.372926Z"
    }
   },
   "outputs": [],
   "source": [
    "import pandas as pd\n",
    "import numpy as np\n",
    "import seaborn as sns\n",
    "import matplotlib.pyplot as plt\n",
    "from mpl_toolkits.mplot3d import Axes3D\n",
    "import warnings\n",
    "%matplotlib inline\n",
    "warnings.filterwarnings('ignore')"
   ]
  },
  {
   "cell_type": "markdown",
   "metadata": {},
   "source": [
    "## Load the Dataset"
   ]
  },
  {
   "cell_type": "code",
   "execution_count": null,
   "metadata": {
    "execution": {
     "iopub.execute_input": "2022-03-06T07:52:58.357972Z",
     "iopub.status.busy": "2022-03-06T07:52:58.357401Z",
     "iopub.status.idle": "2022-03-06T07:52:58.393016Z",
     "shell.execute_reply": "2022-03-06T07:52:58.392240Z",
     "shell.execute_reply.started": "2022-03-06T07:52:58.357926Z"
    }
   },
   "outputs": [],
   "source": [
    "df = pd.read_csv('/kaggle/input/customer-segmentation-tutorial-in-python/Mall_Customers.csv')\n",
    "df.head()"
   ]
  },
  {
   "cell_type": "code",
   "execution_count": null,
   "metadata": {
    "execution": {
     "iopub.execute_input": "2022-03-06T07:52:58.394939Z",
     "iopub.status.busy": "2022-03-06T07:52:58.394499Z",
     "iopub.status.idle": "2022-03-06T07:52:58.427995Z",
     "shell.execute_reply": "2022-03-06T07:52:58.427108Z",
     "shell.execute_reply.started": "2022-03-06T07:52:58.394897Z"
    }
   },
   "outputs": [],
   "source": [
    "# statistical info\n",
    "df.describe()"
   ]
  },
  {
   "cell_type": "code",
   "execution_count": null,
   "metadata": {
    "execution": {
     "iopub.execute_input": "2022-03-06T07:52:58.430825Z",
     "iopub.status.busy": "2022-03-06T07:52:58.430314Z",
     "iopub.status.idle": "2022-03-06T07:52:58.445396Z",
     "shell.execute_reply": "2022-03-06T07:52:58.444372Z",
     "shell.execute_reply.started": "2022-03-06T07:52:58.430781Z"
    }
   },
   "outputs": [],
   "source": [
    "# datatype info\n",
    "df.info()"
   ]
  },
  {
   "cell_type": "markdown",
   "metadata": {},
   "source": [
    "## Exploratory Data Analysis"
   ]
  },
  {
   "cell_type": "code",
   "execution_count": null,
   "metadata": {
    "execution": {
     "iopub.execute_input": "2022-03-06T07:52:58.447066Z",
     "iopub.status.busy": "2022-03-06T07:52:58.446549Z",
     "iopub.status.idle": "2022-03-06T07:52:58.621868Z",
     "shell.execute_reply": "2022-03-06T07:52:58.620907Z",
     "shell.execute_reply.started": "2022-03-06T07:52:58.447029Z"
    }
   },
   "outputs": [],
   "source": [
    "sns.countplot(df['Gender'])"
   ]
  },
  {
   "cell_type": "code",
   "execution_count": null,
   "metadata": {
    "execution": {
     "iopub.execute_input": "2022-03-06T07:52:58.624524Z",
     "iopub.status.busy": "2022-03-06T07:52:58.623474Z",
     "iopub.status.idle": "2022-03-06T07:52:58.858232Z",
     "shell.execute_reply": "2022-03-06T07:52:58.857527Z",
     "shell.execute_reply.started": "2022-03-06T07:52:58.624452Z"
    }
   },
   "outputs": [],
   "source": [
    "sns.distplot(df['Age'])"
   ]
  },
  {
   "cell_type": "code",
   "execution_count": null,
   "metadata": {
    "execution": {
     "iopub.execute_input": "2022-03-06T07:52:58.860197Z",
     "iopub.status.busy": "2022-03-06T07:52:58.859421Z",
     "iopub.status.idle": "2022-03-06T07:52:59.190981Z",
     "shell.execute_reply": "2022-03-06T07:52:59.190381Z",
     "shell.execute_reply.started": "2022-03-06T07:52:58.860161Z"
    }
   },
   "outputs": [],
   "source": [
    "sns.distplot(df['Annual Income (k$)'])"
   ]
  },
  {
   "cell_type": "code",
   "execution_count": null,
   "metadata": {
    "execution": {
     "iopub.execute_input": "2022-03-06T07:52:59.192314Z",
     "iopub.status.busy": "2022-03-06T07:52:59.191970Z",
     "iopub.status.idle": "2022-03-06T07:52:59.422700Z",
     "shell.execute_reply": "2022-03-06T07:52:59.421848Z",
     "shell.execute_reply.started": "2022-03-06T07:52:59.192286Z"
    }
   },
   "outputs": [],
   "source": [
    "sns.distplot(df['Spending Score (1-100)'])"
   ]
  },
  {
   "cell_type": "markdown",
   "metadata": {},
   "source": [
    "## Correlation Matrix"
   ]
  },
  {
   "cell_type": "code",
   "execution_count": null,
   "metadata": {
    "execution": {
     "iopub.execute_input": "2022-03-06T07:52:59.424053Z",
     "iopub.status.busy": "2022-03-06T07:52:59.423829Z",
     "iopub.status.idle": "2022-03-06T07:52:59.767396Z",
     "shell.execute_reply": "2022-03-06T07:52:59.766379Z",
     "shell.execute_reply.started": "2022-03-06T07:52:59.424025Z"
    }
   },
   "outputs": [],
   "source": [
    "corr = df.corr()\n",
    "sns.heatmap(corr, annot=True, cmap='coolwarm')"
   ]
  },
  {
   "cell_type": "markdown",
   "metadata": {},
   "source": [
    "## Clustering"
   ]
  },
  {
   "cell_type": "code",
   "execution_count": null,
   "metadata": {
    "execution": {
     "iopub.execute_input": "2022-03-06T07:52:59.770368Z",
     "iopub.status.busy": "2022-03-06T07:52:59.770093Z",
     "iopub.status.idle": "2022-03-06T07:52:59.781798Z",
     "shell.execute_reply": "2022-03-06T07:52:59.780925Z",
     "shell.execute_reply.started": "2022-03-06T07:52:59.770335Z"
    }
   },
   "outputs": [],
   "source": [
    "df.head()"
   ]
  },
  {
   "cell_type": "code",
   "execution_count": null,
   "metadata": {
    "execution": {
     "iopub.execute_input": "2022-03-06T07:52:59.783185Z",
     "iopub.status.busy": "2022-03-06T07:52:59.782969Z",
     "iopub.status.idle": "2022-03-06T07:52:59.797576Z",
     "shell.execute_reply": "2022-03-06T07:52:59.796635Z",
     "shell.execute_reply.started": "2022-03-06T07:52:59.783160Z"
    }
   },
   "outputs": [],
   "source": [
    "# cluster on 2 features\n",
    "df1 = df[['Annual Income (k$)', 'Spending Score (1-100)']]\n",
    "df1.head()"
   ]
  },
  {
   "cell_type": "code",
   "execution_count": null,
   "metadata": {
    "execution": {
     "iopub.execute_input": "2022-03-06T07:52:59.799050Z",
     "iopub.status.busy": "2022-03-06T07:52:59.798823Z",
     "iopub.status.idle": "2022-03-06T07:53:00.045372Z",
     "shell.execute_reply": "2022-03-06T07:53:00.044409Z",
     "shell.execute_reply.started": "2022-03-06T07:52:59.799025Z"
    }
   },
   "outputs": [],
   "source": [
    "# scatter plot\n",
    "sns.scatterplot(df1['Annual Income (k$)'], df1['Spending Score (1-100)'])"
   ]
  },
  {
   "cell_type": "code",
   "execution_count": null,
   "metadata": {
    "execution": {
     "iopub.execute_input": "2022-03-06T07:53:00.049039Z",
     "iopub.status.busy": "2022-03-06T07:53:00.048237Z",
     "iopub.status.idle": "2022-03-06T07:53:01.018970Z",
     "shell.execute_reply": "2022-03-06T07:53:01.017868Z",
     "shell.execute_reply.started": "2022-03-06T07:53:00.048994Z"
    }
   },
   "outputs": [],
   "source": [
    "from sklearn.cluster import KMeans\n",
    "errors = []\n",
    "for i in range(1, 11):\n",
    "    kmeans = KMeans(n_clusters=i)\n",
    "    kmeans.fit(df1)\n",
    "    errors.append(kmeans.inertia_)"
   ]
  },
  {
   "cell_type": "code",
   "execution_count": null,
   "metadata": {
    "execution": {
     "iopub.execute_input": "2022-03-06T07:53:01.021747Z",
     "iopub.status.busy": "2022-03-06T07:53:01.021085Z",
     "iopub.status.idle": "2022-03-06T07:53:01.242066Z",
     "shell.execute_reply": "2022-03-06T07:53:01.241144Z",
     "shell.execute_reply.started": "2022-03-06T07:53:01.021700Z"
    }
   },
   "outputs": [],
   "source": [
    "# plot the results for elbow method\n",
    "plt.figure(figsize=(13,6))\n",
    "plt.plot(range(1,11), errors)\n",
    "plt.plot(range(1,11), errors, linewidth=3, color='red', marker='8')\n",
    "plt.xlabel('No. of clusters')\n",
    "plt.ylabel('WCSS')\n",
    "plt.xticks(np.arange(1,11,1))\n",
    "plt.show()"
   ]
  },
  {
   "cell_type": "code",
   "execution_count": null,
   "metadata": {
    "execution": {
     "iopub.execute_input": "2022-03-06T07:53:01.243696Z",
     "iopub.status.busy": "2022-03-06T07:53:01.243460Z",
     "iopub.status.idle": "2022-03-06T07:53:01.294675Z",
     "shell.execute_reply": "2022-03-06T07:53:01.293856Z",
     "shell.execute_reply.started": "2022-03-06T07:53:01.243667Z"
    }
   },
   "outputs": [],
   "source": [
    "km = KMeans(n_clusters=5)\n",
    "km.fit(df1)\n",
    "y = km.predict(df1)\n",
    "df1['Label'] = y\n",
    "df1.head()"
   ]
  },
  {
   "cell_type": "code",
   "execution_count": null,
   "metadata": {
    "execution": {
     "iopub.execute_input": "2022-03-06T07:53:01.296613Z",
     "iopub.status.busy": "2022-03-06T07:53:01.296147Z",
     "iopub.status.idle": "2022-03-06T07:53:01.731393Z",
     "shell.execute_reply": "2022-03-06T07:53:01.730526Z",
     "shell.execute_reply.started": "2022-03-06T07:53:01.296572Z"
    }
   },
   "outputs": [],
   "source": [
    "sns.scatterplot(x='Annual Income (k$)', y='Spending Score (1-100)', data=df1, hue='Label', s=50, palette=['red', 'green', 'brown', 'blue', 'orange'])"
   ]
  },
  {
   "cell_type": "code",
   "execution_count": null,
   "metadata": {
    "execution": {
     "iopub.execute_input": "2022-03-06T07:53:01.733470Z",
     "iopub.status.busy": "2022-03-06T07:53:01.732985Z",
     "iopub.status.idle": "2022-03-06T07:53:01.743895Z",
     "shell.execute_reply": "2022-03-06T07:53:01.742756Z",
     "shell.execute_reply.started": "2022-03-06T07:53:01.733421Z"
    }
   },
   "outputs": [],
   "source": [
    "# cluster on 3 features\n",
    "df2 = df[['Annual Income (k$)', 'Spending Score (1-100)', 'Age']]\n",
    "df2.head()"
   ]
  },
  {
   "cell_type": "code",
   "execution_count": null,
   "metadata": {
    "execution": {
     "iopub.execute_input": "2022-03-06T07:53:01.745716Z",
     "iopub.status.busy": "2022-03-06T07:53:01.745128Z",
     "iopub.status.idle": "2022-03-06T07:53:02.188961Z",
     "shell.execute_reply": "2022-03-06T07:53:02.188059Z",
     "shell.execute_reply.started": "2022-03-06T07:53:01.745683Z"
    }
   },
   "outputs": [],
   "source": [
    "errors = []\n",
    "for i in range(1, 11):\n",
    "    kmeans = KMeans(n_clusters=i)\n",
    "    kmeans.fit(df2)\n",
    "    errors.append(kmeans.inertia_)"
   ]
  },
  {
   "cell_type": "code",
   "execution_count": null,
   "metadata": {
    "execution": {
     "iopub.execute_input": "2022-03-06T07:53:02.190655Z",
     "iopub.status.busy": "2022-03-06T07:53:02.190411Z",
     "iopub.status.idle": "2022-03-06T07:53:02.415605Z",
     "shell.execute_reply": "2022-03-06T07:53:02.414998Z",
     "shell.execute_reply.started": "2022-03-06T07:53:02.190627Z"
    }
   },
   "outputs": [],
   "source": [
    "# plot the results for elbow method\n",
    "plt.figure(figsize=(13,6))\n",
    "plt.plot(range(1,11), errors)\n",
    "plt.plot(range(1,11), errors, linewidth=3, color='red', marker='8')\n",
    "plt.xlabel('No. of clusters')\n",
    "plt.ylabel('WCSS')\n",
    "plt.xticks(np.arange(1,11,1))\n",
    "plt.show()"
   ]
  },
  {
   "cell_type": "code",
   "execution_count": null,
   "metadata": {
    "execution": {
     "iopub.execute_input": "2022-03-06T07:53:02.417069Z",
     "iopub.status.busy": "2022-03-06T07:53:02.416709Z",
     "iopub.status.idle": "2022-03-06T07:53:02.473145Z",
     "shell.execute_reply": "2022-03-06T07:53:02.472313Z",
     "shell.execute_reply.started": "2022-03-06T07:53:02.417035Z"
    }
   },
   "outputs": [],
   "source": [
    "km = KMeans(n_clusters=5)\n",
    "km.fit(df2)\n",
    "y = km.predict(df2)\n",
    "df2['Label'] = y\n",
    "df2.head()"
   ]
  },
  {
   "cell_type": "code",
   "execution_count": null,
   "metadata": {
    "execution": {
     "iopub.execute_input": "2022-03-06T07:53:02.474829Z",
     "iopub.status.busy": "2022-03-06T07:53:02.474606Z",
     "iopub.status.idle": "2022-03-06T07:53:02.820244Z",
     "shell.execute_reply": "2022-03-06T07:53:02.819289Z",
     "shell.execute_reply.started": "2022-03-06T07:53:02.474804Z"
    }
   },
   "outputs": [],
   "source": [
    "# 3d scatter plot\n",
    "fig = plt.figure(figsize=(20,15))\n",
    "ax = fig.add_subplot(111, projection='3d')\n",
    "\n",
    "ax.scatter(df2['Age'][df2['Label']==0], df2['Annual Income (k$)'][df2['Label']==0], df2['Spending Score (1-100)'][df2['Label']==0], c='red', s=50)\n",
    "ax.scatter(df2['Age'][df2['Label']==1], df2['Annual Income (k$)'][df2['Label']==1], df2['Spending Score (1-100)'][df2['Label']==1], c='green', s=50)\n",
    "ax.scatter(df2['Age'][df2['Label']==2], df2['Annual Income (k$)'][df2['Label']==2], df2['Spending Score (1-100)'][df2['Label']==2], c='blue', s=50)\n",
    "ax.scatter(df2['Age'][df2['Label']==3], df2['Annual Income (k$)'][df2['Label']==3], df2['Spending Score (1-100)'][df2['Label']==3], c='brown', s=50)\n",
    "ax.scatter(df2['Age'][df2['Label']==4], df2['Annual Income (k$)'][df2['Label']==4], df2['Spending Score (1-100)'][df2['Label']==4], c='orange', s=50)\n",
    "ax.view_init(30, 190)\n",
    "ax.set_xlabel('Age')\n",
    "ax.set_ylabel('Annual Income')\n",
    "ax.set_zlabel('Spending Score')\n",
    "plt.show()"
   ]
  },
  {
   "cell_type": "code",
   "execution_count": null,
   "metadata": {},
   "outputs": [],
   "source": []
  }
 ],
 "metadata": {
  "kernelspec": {
   "display_name": "Python 3 (ipykernel)",
   "language": "python",
   "name": "python3"
  },
  "language_info": {
   "codemirror_mode": {
    "name": "ipython",
    "version": 3
   },
   "file_extension": ".py",
   "mimetype": "text/x-python",
   "name": "python",
   "nbconvert_exporter": "python",
   "pygments_lexer": "ipython3",
   "version": "3.10.9"
  }
 },
 "nbformat": 4,
 "nbformat_minor": 4
}
